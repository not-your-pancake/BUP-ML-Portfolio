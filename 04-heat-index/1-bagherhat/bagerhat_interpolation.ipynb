{
 "cells": [
  {
   "cell_type": "code",
   "execution_count": null,
   "id": "49c03a00",
   "metadata": {},
   "outputs": [],
   "source": [
    "import pandas as pd"
   ]
  },
  {
   "cell_type": "code",
   "execution_count": null,
   "id": "1206b2ce",
   "metadata": {},
   "outputs": [],
   "source": [
    "df_bagerhat = pd.read_csv('Bagerhat_historical_weather_1980_2024.csv')"
   ]
  },
  {
   "cell_type": "code",
   "execution_count": null,
   "id": "6e605743",
   "metadata": {},
   "outputs": [
    {
     "name": "stdout",
     "output_type": "stream",
     "text": [
      "Dataset contains 16437 rows and 15 columns.\n"
     ]
    }
   ],
   "source": [
    "shape = df_bagerhat.shape\n",
    "print(f\"Dataset contains {shape[0]} rows and {shape[1]} columns.\")"
   ]
  },
  {
   "cell_type": "code",
   "execution_count": null,
   "id": "a46534ad",
   "metadata": {},
   "outputs": [
    {
     "name": "stdout",
     "output_type": "stream",
     "text": [
      "<class 'pandas.core.frame.DataFrame'>\n",
      "RangeIndex: 16437 entries, 0 to 16436\n",
      "Data columns (total 15 columns):\n",
      " #   Column                         Non-Null Count  Dtype  \n",
      "---  ------                         --------------  -----  \n",
      " 0   district                       16437 non-null  object \n",
      " 1   day                            16437 non-null  int64  \n",
      " 2   month                          16437 non-null  int64  \n",
      " 3   year                           16437 non-null  int64  \n",
      " 4   temperature(degree C)          10478 non-null  float64\n",
      " 5   feels_like(degree C)           10478 non-null  float64\n",
      " 6   max_temperature(degree C)      14991 non-null  float64\n",
      " 7   minimum_temperature(degree C)  14991 non-null  float64\n",
      " 8   humidity                       10478 non-null  float64\n",
      " 9   precipitation                  5479 non-null   float64\n",
      " 10  windspeed                      11924 non-null  float64\n",
      " 11  atmospheric_pressure           7115 non-null   float64\n",
      " 12  UV                             4038 non-null   float64\n",
      " 13  solar_radiation                4038 non-null   float64\n",
      " 14  dew_point                      10478 non-null  float64\n",
      "dtypes: float64(11), int64(3), object(1)\n",
      "memory usage: 1.9+ MB\n"
     ]
    }
   ],
   "source": [
    "df_bagerhat.info()"
   ]
  },
  {
   "cell_type": "code",
   "execution_count": null,
   "id": "f1fdb841",
   "metadata": {},
   "outputs": [
    {
     "name": "stdout",
     "output_type": "stream",
     "text": [
      "After cleaning, dataset contains 7303 rows and 15 columns out of 16437 rows. (taking precipitation as optional)\n",
      "\n",
      "Remaining missing % per column:\n",
      "district                         0.0\n",
      "day                              0.0\n",
      "month                            0.0\n",
      "year                             0.0\n",
      "temperature(degree C)            0.0\n",
      "feels_like(degree C)             0.0\n",
      "max_temperature(degree C)        0.0\n",
      "minimum_temperature(degree C)    0.0\n",
      "humidity                         0.0\n",
      "precipitation                    0.0\n",
      "windspeed                        0.0\n",
      "atmospheric_pressure             0.0\n",
      "UV                               0.0\n",
      "solar_radiation                  0.0\n",
      "dew_point                        0.0\n",
      "dtype: float64\n"
     ]
    }
   ],
   "source": [
    "import pandas as pd\n",
    "\n",
    "df = df_bagerhat.copy()\n",
    "\n",
    "# Build datetime index\n",
    "df['date'] = pd.to_datetime(df[['year', 'month', 'day']])\n",
    "df = df.sort_values('date').set_index('date')\n",
    "\n",
    "# Define feature groups\n",
    "core_cols = [\n",
    "    'temperature(degree C)', 'feels_like(degree C)',\n",
    "    'max_temperature(degree C)', 'minimum_temperature(degree C)',\n",
    "    'humidity', 'windspeed', 'atmospheric_pressure', 'dew_point'\n",
    "]\n",
    "\n",
    "optional_cols = ['precipitation', 'UV', 'solar_radiation']\n",
    "\n",
    "# ---- Step 1: Handle missing gaps for core variables ----\n",
    "mask = df[core_cols].isna().any(axis=1)\n",
    "group = (mask != mask.shift()).cumsum()\n",
    "gap_lengths = mask.groupby(group).transform('sum')\n",
    "\n",
    "# Drop long missing sequences (≥6 days)\n",
    "df = df[~((mask) & (gap_lengths >= 6))]\n",
    "\n",
    "# ---- Step 2: Interpolate ----\n",
    "# Interpolate core features with time-based interpolation\n",
    "df[core_cols] = df[core_cols].interpolate(method='time')\n",
    "\n",
    "# Interpolate optional ones separately, if they exist\n",
    "for col in optional_cols:\n",
    "    if col in df.columns:\n",
    "        df[col] = df[col].interpolate(method='time', limit_direction='both')\n",
    "\n",
    "# ---- Step 3: Drop rows only if core variables still missing ----\n",
    "df = df.dropna(subset=core_cols)\n",
    "\n",
    "# ---- Step 4: Summary ----\n",
    "print(f\"After cleaning, dataset contains {df.shape[0]} rows and {df.shape[1]} columns out of {df_bagerhat.shape[0]} rows. (taking precipitation as optional)\")\n",
    "missing_ratio = df.isna().mean().round(3) * 100\n",
    "print(\"\\nRemaining missing % per column:\")\n",
    "print(missing_ratio)\n"
   ]
  },
  {
   "cell_type": "code",
   "execution_count": null,
   "id": "549a6799",
   "metadata": {},
   "outputs": [
    {
     "name": "stdout",
     "output_type": "stream",
     "text": [
      "Dropped 48 long missing sequences (≥6 days).\n"
     ]
    }
   ],
   "source": [
    "long_gaps = gap_lengths[mask & (gap_lengths >= 6)]\n",
    "print(f\"Dropped {long_gaps.nunique()} long missing sequences (≥6 days).\")"
   ]
  },
  {
   "cell_type": "code",
   "execution_count": null,
   "id": "a2a8897c",
   "metadata": {},
   "outputs": [
    {
     "ename": "ModuleNotFoundError",
     "evalue": "No module named 'matplotlib'",
     "output_type": "error",
     "traceback": [
      "\u001b[31m---------------------------------------------------------------------------\u001b[39m",
      "\u001b[31mModuleNotFoundError\u001b[39m                       Traceback (most recent call last)",
      "\u001b[36mCell\u001b[39m\u001b[36m \u001b[39m\u001b[32mIn[2]\u001b[39m\u001b[32m, line 1\u001b[39m\n\u001b[32m----> \u001b[39m\u001b[32m1\u001b[39m \u001b[38;5;28;01mimport\u001b[39;00m\u001b[38;5;250m \u001b[39m\u001b[34;01mmatplotlib\u001b[39;00m\u001b[34;01m.\u001b[39;00m\u001b[34;01mpyplot\u001b[39;00m\u001b[38;5;250m \u001b[39m\u001b[38;5;28;01mas\u001b[39;00m\u001b[38;5;250m \u001b[39m\u001b[34;01mplt\u001b[39;00m\n\u001b[32m      2\u001b[39m \u001b[38;5;28;01mimport\u001b[39;00m\u001b[38;5;250m \u001b[39m\u001b[34;01mpandas\u001b[39;00m\u001b[38;5;250m \u001b[39m\u001b[38;5;28;01mas\u001b[39;00m\u001b[38;5;250m \u001b[39m\u001b[34;01mpd\u001b[39;00m\n\u001b[32m      4\u001b[39m \u001b[38;5;66;03m# assuming your cleaned + interpolated DataFrame is named 'df'\u001b[39;00m\n",
      "\u001b[31mModuleNotFoundError\u001b[39m: No module named 'matplotlib'"
     ]
    }
   ],
   "source": [
    "import matplotlib.pyplot as plt\n",
    "import pandas as pd\n",
    "\n",
    "# assuming your cleaned + interpolated DataFrame is named 'df'\n",
    "with_interpolation = df.copy()\n",
    "\n",
    "# ensure datetime column exists (if not already index)\n",
    "if 'date' not in with_interpolation.columns:\n",
    "    with_interpolation['date'] = pd.to_datetime(with_interpolation[['year', 'month', 'day']])\n",
    "\n",
    "# show date range\n",
    "min_date = with_interpolation['date'].min()\n",
    "max_date = with_interpolation['date'].max()\n",
    "print(f\"Date range: {min_date.date()} to {max_date.date()}\")\n",
    "\n",
    "# --- Plot 1: Daily Temperature (interpolated) ---\n",
    "plt.figure(figsize=(12, 4))\n",
    "plt.plot(with_interpolation['date'], with_interpolation['temperature(degree C)'],\n",
    "         marker='.', linestyle='-', alpha=0.6, color='tab:blue')\n",
    "plt.xlabel('Date')\n",
    "plt.ylabel('Temperature (°C)')\n",
    "plt.title('Daily Temperature (with_interpolation)')\n",
    "plt.grid(True)\n",
    "plt.tight_layout()\n",
    "plt.show()\n",
    "\n",
    "# --- Plot 2: Monthly Average Temperature (interpolated) ---\n",
    "monthly_avg = with_interpolation.set_index('date')['temperature(degree C)'].resample('M').mean()\n",
    "\n",
    "plt.figure(figsize=(12, 4))\n",
    "plt.plot(monthly_avg.index, monthly_avg.values, color='red', linewidth=2)\n",
    "plt.xlabel('Date')\n",
    "plt.ylabel('Monthly Average Temperature (°C)')\n",
    "plt.title('Monthly Average Temperature (with_interpolation)')\n",
    "plt.grid(True)\n",
    "plt.tight_layout()\n",
    "plt.show()\n"
   ]
  },
  {
   "cell_type": "code",
   "execution_count": null,
   "id": "ddc20e57",
   "metadata": {},
   "outputs": [
    {
     "name": "stdout",
     "output_type": "stream",
     "text": [
      "After cleaning, dataset contains 5479 rows and 15 columns out of 16437 rows. (taking precipitation as mandatory)\n",
      "\n",
      "Remaining missing % per column:\n",
      "district                         0.0\n",
      "day                              0.0\n",
      "month                            0.0\n",
      "year                             0.0\n",
      "temperature(degree C)            0.0\n",
      "feels_like(degree C)             0.0\n",
      "max_temperature(degree C)        0.0\n",
      "minimum_temperature(degree C)    0.0\n",
      "humidity                         0.0\n",
      "precipitation                    0.0\n",
      "windspeed                        0.0\n",
      "atmospheric_pressure             0.0\n",
      "UV                               0.0\n",
      "solar_radiation                  0.0\n",
      "dew_point                        0.0\n",
      "dtype: float64\n"
     ]
    }
   ],
   "source": [
    "\n",
    "df = df_bagerhat.copy()\n",
    "\n",
    "# Build datetime index\n",
    "df['date'] = pd.to_datetime(df[['year', 'month', 'day']])\n",
    "df = df.sort_values('date').set_index('date')\n",
    "\n",
    "# Define feature groups\n",
    "core_cols = [\n",
    "    'temperature(degree C)', 'feels_like(degree C)',\n",
    "    'max_temperature(degree C)', 'minimum_temperature(degree C)',\n",
    "    'humidity', 'windspeed', 'precipitation','atmospheric_pressure', 'dew_point'\n",
    "]\n",
    "\n",
    "optional_cols = [ 'UV', 'solar_radiation']\n",
    "\n",
    "# ---- Step 1: Handle missing gaps for core variables ----\n",
    "mask = df[core_cols].isna().any(axis=1)\n",
    "group = (mask != mask.shift()).cumsum()\n",
    "gap_lengths = mask.groupby(group).transform('sum')\n",
    "\n",
    "# Drop long missing sequences (≥6 days)\n",
    "df = df[~((mask) & (gap_lengths >= 6))]\n",
    "\n",
    "# ---- Step 2: Interpolate ----\n",
    "# Interpolate core features with time-based interpolation\n",
    "df[core_cols] = df[core_cols].interpolate(method='time')\n",
    "\n",
    "# Interpolate optional ones separately, if they exist\n",
    "for col in optional_cols:\n",
    "    if col in df.columns:\n",
    "        df[col] = df[col].interpolate(method='time', limit_direction='both')\n",
    "\n",
    "# ---- Step 3: Drop rows only if core variables still missing ----\n",
    "df = df.dropna(subset=core_cols)\n",
    "\n",
    "# ---- Step 4: Summary ----\n",
    "print(f\"After cleaning, dataset contains {df.shape[0]} rows and {df.shape[1]} columns out of {df_bagerhat.shape[0]} rows. (taking precipitation as mandatory)\")\n",
    "missing_ratio = df.isna().mean().round(3) * 100\n",
    "print(\"\\nRemaining missing % per column:\")\n",
    "print(missing_ratio)\n"
   ]
  },
  {
   "cell_type": "code",
   "execution_count": null,
   "id": "32521f7e",
   "metadata": {},
   "outputs": [
    {
     "name": "stdout",
     "output_type": "stream",
     "text": [
      "Dropped 1 long missing sequences (≥6 days).\n"
     ]
    }
   ],
   "source": [
    "long_gaps = gap_lengths[mask & (gap_lengths >= 6)]\n",
    "print(f\"Dropped {long_gaps.nunique()} long missing sequences (≥6 days).\")"
   ]
  }
 ],
 "metadata": {
  "kernelspec": {
   "display_name": ".venv",
   "language": "python",
   "name": "python3"
  },
  "language_info": {
   "codemirror_mode": {
    "name": "ipython",
    "version": 3
   },
   "file_extension": ".py",
   "mimetype": "text/x-python",
   "name": "python",
   "nbconvert_exporter": "python",
   "pygments_lexer": "ipython3",
   "version": "3.12.6"
  }
 },
 "nbformat": 4,
 "nbformat_minor": 5
}
