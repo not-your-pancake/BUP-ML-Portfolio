{
 "cells": [
  {
   "cell_type": "markdown",
   "metadata": {},
   "source": [
    "## outdated problem set"
   ]
  },
  {
   "cell_type": "markdown",
   "metadata": {},
   "source": [
    "required output :\n",
    "\n",
    "`$ python outdated.py  `                                                          \n",
    "`Date: 9/8/1636`                                                                \n",
    "`1636-09-08`                                                                      \n",
    "`$ python outdated.py`                                                            \n",
    "`Date: 8 September 1636 `                                                         \n",
    "`Date: September 8, 1636`                                                         \n",
    "`1636-09-08 `                                                                     \n",
    "`$ python outdated.py`                                                            \n",
    "`Date: 8/9/1636  `                                                                \n",
    "`1636-08-09 `                                                                     \n",
    "`$`     "
   ]
  },
  {
   "cell_type": "markdown",
   "metadata": {},
   "source": [
    "#  split function"
   ]
  },
  {
   "cell_type": "markdown",
   "metadata": {},
   "source": [
    "```\n",
    "text = \"apple,banana,cherry\"\n",
    "result = text.split(\",\")\n",
    "print(result)  # Output: ['apple', 'banana', 'cherry'] \n",
    "```"
   ]
  },
  {
   "cell_type": "markdown",
   "metadata": {},
   "source": [
    "# indexing in list"
   ]
  },
  {
   "cell_type": "markdown",
   "metadata": {},
   "source": [
    "```\n",
    "fruits = ['apple', 'banana', 'cherry', 'apple']\n",
    "index = fruits.index('apple')\n",
    "print(index)  # Output: 0\n",
    "\n",
    "```"
   ]
  },
  {
   "cell_type": "code",
   "execution_count": 18,
   "metadata": {},
   "outputs": [
    {
     "name": "stdout",
     "output_type": "stream",
     "text": [
      "8\n"
     ]
    }
   ],
   "source": [
    "months_of_a_year = [\n",
    "    \"January\",\n",
    "    \"February\",\n",
    "    \"March\",\n",
    "    \"April\",\n",
    "    \"May\",\n",
    "    \"June\",\n",
    "    \"July\",\n",
    "    \"August\",\n",
    "    \"September\",\n",
    "    \"October\",\n",
    "    \"November\",\n",
    "    \"December\"\n",
    "]\n",
    "\n",
    "print (months_of_a_year.index(\"September\"))"
   ]
  },
  {
   "cell_type": "code",
   "execution_count": 19,
   "metadata": {},
   "outputs": [
    {
     "name": "stdout",
     "output_type": "stream",
     "text": [
      "1981-08-08\n"
     ]
    }
   ],
   "source": [
    "date = input(\"Date: \")\n",
    "if '/' in date:\n",
    "    # month - day - year \n",
    "    #8/5/1981\n",
    "    date = date.split('/')\n",
    "    year = int(date[2])\n",
    "    month = int(date[0])\n",
    "    day = int(date[1])\n",
    "\n",
    "    if (month < 10 or day < 10):\n",
    "        print(f\"{year}-0{month}-0{day}\")\n",
    "\n",
    "else:\n",
    "    # September 8, 1981\n",
    "    date = date.replace(\",\", \"\") \n",
    "    date = date.split()\n",
    "    year = int(date[2])\n",
    "    month = months_of_a_year.index(date[0])\n",
    "    day = int(date[1])\n",
    "\n",
    "    if (month < 10 or day < 10):\n",
    "        print(f\"{year}-0{month}-0{day}\")"
   ]
  },
  {
   "cell_type": "markdown",
   "metadata": {},
   "source": [
    "## how does a try except works in while loop"
   ]
  },
  {
   "cell_type": "code",
   "execution_count": null,
   "metadata": {},
   "outputs": [
    {
     "name": "stdout",
     "output_type": "stream",
     "text": [
      "The color of Apple is Red.\n"
     ]
    }
   ],
   "source": [
    "fruit_colors = {'Apple': 'Red', 'Banana': 'Yellow', 'Grapes': 'Purple'}\n",
    "\n",
    "while True:\n",
    "    try:\n",
    "        # Move input() inside the try block\n",
    "        fruit = input(\"Enter a fruit name (or 'exit' to quit): \").title()        \n",
    "        print(f\"The color of {fruit} is {fruit_colors[fruit]}.\")\n",
    "        break\n",
    "        \n",
    "    except KeyError:\n",
    "        # Handle case where the fruit is not in the dictionary\n",
    "        pass\n"
   ]
  },
  {
   "cell_type": "markdown",
   "metadata": {},
   "source": [
    "# work of .title()\n",
    "they ignore the casing just take the title"
   ]
  },
  {
   "cell_type": "code",
   "execution_count": 26,
   "metadata": {},
   "outputs": [
    {
     "name": "stdout",
     "output_type": "stream",
     "text": [
      "1961-09-08\n"
     ]
    }
   ],
   "source": [
    "while True:\n",
    "    try:\n",
    "        date = input(\"Date: \").title()\n",
    "        if '/' in date:\n",
    "            # month - day - year \n",
    "            #8/5/1981\n",
    "            date = date.split('/')\n",
    "            year = int(date[2])\n",
    "            month = int(date[0])+1\n",
    "            day = int(date[1])\n",
    "\n",
    "            if (month < 10 or day < 10):\n",
    "                print(f\"{year}-0{month}-0{day}\")\n",
    "            break\n",
    "        else:\n",
    "            # September 8, 1981\n",
    "            date = date.replace(\",\", \"\") \n",
    "            date = date.split()\n",
    "            year = int(date[2])\n",
    "            month = months_of_a_year.index(date[0])+1\n",
    "            day = int(date[1])\n",
    "\n",
    "            if (month < 10 or day < 10):\n",
    "                print(f\"{year}-0{month}-0{day}\")\n",
    "            break\n",
    "    except (KeyError, ValueError):\n",
    "        pass\n",
    "    except "
   ]
  },
  {
   "cell_type": "markdown",
   "metadata": {},
   "source": [
    "# Error :\n",
    "``````\n",
    ":) outdated.py exists\n",
    ":) input of 9/8/1636 outputs 1636-09-08\n",
    ":( input of September 8, 1636 outputs 1636-09-08\n",
    "    expected: \"1636-09-08\"\n",
    "    actual:   \"Traceback ...\"\n",
    ":( input of 10/9/1701 outputs 1701-10-09\n",
    "    expected: \"1701-10-09\"\n",
    "    actual:   \"1701-010-0...\"\n",
    ":( input of October 9, 1701 outputs 1701-10-09\n",
    "    expected: \"1701-10-09\"\n",
    "    actual:   \"Traceback ...\"\n",
    ":) input of \" 9/8/1636 \" outputs 1636-09-08\n",
    ":( input of 23/6/1912 results in reprompt\n",
    "    expected program to reject input, but it did not\n",
    ":( input of 10 December, 1815 results in reprompt\n",
    "    expected program to reject input, but it did not\n",
    ":) input of October/9/1701 results in reprompt\n",
    ":( input of 1/50/2000 results in reprompt\n",
    "    expected program to reject input, but it did not\n",
    ":( input of December 80, 1980 results in reprompt\n",
    "    expected program to reject input, but it did not\n",
    ":( input of September 8 1636 results in reprompt\n",
    "    expected program to reject input, but it did not\n",
    "\n",
    "``````"
   ]
  },
  {
   "cell_type": "markdown",
   "metadata": {},
   "source": [
    "# custom exception with self logic\n",
    "```\n",
    "class DorkarNai(Exception):\n",
    "    pass\n",
    "\n",
    "while(True):\n",
    "    try:\n",
    "        x = input(\"Fraction: \")\n",
    "\n",
    "        if '/' in x :\n",
    "            numerator, denominator = map(int, x.split('/'))\n",
    "\n",
    "            if numerator < 0 or denominator <= 0:\n",
    "                raise DorkarNai\n",
    "\n",
    "            if numerator > denominator:\n",
    "                raise DorkarNai\n",
    "\n",
    "            z = numerator/denominator\n",
    "            y = z*100\n",
    "\n",
    "            if( y <=1.00):\n",
    "                print(\"E\")\n",
    "            elif( y >= 99.00):\n",
    "                print(\"F\")\n",
    "            else:\n",
    "                print(f\"{y:.0f}%\")\n",
    "        elif not '/' in x :\n",
    "            raise DorkarNai\n",
    "\n",
    "    except (ValueError, DorkarNai, ZeroDivisionError ):\n",
    "        pass\n",
    "    else:\n",
    "        break\n",
    "```"
   ]
  },
  {
   "cell_type": "code",
   "execution_count": 43,
   "metadata": {},
   "outputs": [
    {
     "name": "stdout",
     "output_type": "stream",
     "text": [
      "1701-010-09\n"
     ]
    }
   ],
   "source": [
    "months_of_a_year = [\n",
    "    \"January\",\n",
    "    \"February\",\n",
    "    \"March\",\n",
    "    \"April\",\n",
    "    \"May\",\n",
    "    \"June\",\n",
    "    \"July\",\n",
    "    \"August\",\n",
    "    \"September\",\n",
    "    \"October\",\n",
    "    \"November\",\n",
    "    \"December\"\n",
    "]\n",
    "class DorkarNai(Exception):\n",
    "    pass\n",
    "\n",
    "while True:\n",
    "    try:\n",
    "        date = input(\"Date: \").title().strip()\n",
    "        if '/' in date:\n",
    "            # month - day - year \n",
    "            #8/5/1981\n",
    "            date = date.split('/')\n",
    "            year = int(date[2])\n",
    "            month = int(date[0])\n",
    "            day = int(date[1])\n",
    "            \n",
    "            if month > 12 or day > 31:\n",
    "                raise DorkarNai\n",
    "            elif (month <= 9 or day <= 9):\n",
    "                print(f\"{year}-0{month}-0{day}\")\n",
    "            else:\n",
    "                print(f\"{year}-{month}-{day}\")\n",
    "            break\n",
    "        else:\n",
    "            if ',' not in date:\n",
    "                raise DorkarNai\n",
    "            \n",
    "            # September 8, 1981\n",
    "            date = date.replace(\",\", \"\") \n",
    "            date = date.split()\n",
    "            year = int(date[2])\n",
    "            month = months_of_a_year.index(date[0])+1\n",
    "            day = int(date[1])\n",
    "\n",
    "            if month > 12 or day > 31:\n",
    "                raise DorkarNai\n",
    "            elif (month <=9 or day <=9):\n",
    "                print(f\"{year}-0{month}-0{day}\")\n",
    "            else:\n",
    "                print(f\"{year}-{month}-{day}\")\n",
    "            break\n",
    "    except (KeyError, ValueError, DorkarNai):\n",
    "        pass\n",
    "\n",
    "    #September 8, 1636 ->  1636-09-08\n",
    "    #10/9/1701 - > "
   ]
  },
  {
   "cell_type": "markdown",
   "metadata": {},
   "source": [
    "the above code is giving this problems:\n",
    "```\n",
    ":( input of 10/9/1701 outputs 1701-10-09\n",
    "    expected: \"1701-10-09\"\n",
    "    actual:   \"1701-010-0...\"\n",
    ":( input of October 9, 1701 outputs 1701-10-09\n",
    "    expected: \"1701-10-09\"\n",
    "    actual:   \"1701-010-0...\"\n",
    "```\n",
    "\n",
    "Fixed the logic :\n",
    "```\n",
    "if month > 12 or day > 31:\n",
    "                raise DorkarNai\n",
    "            elif (month <= 9 and day <= 9):\n",
    "                print(f\"{year}-0{month}-0{day}\")\n",
    "            elif (month <=9 or day <=9):\n",
    "                print(f\"{year}-{month}-0{day}\")\n",
    "            elif (month <=9 or day <=9):\n",
    "                print(f\"{year}-0{month}-{day}\")\n",
    "            else:\n",
    "                print(f\"{year}-{month}-{day}\")\n",
    "```"
   ]
  },
  {
   "cell_type": "code",
   "execution_count": null,
   "metadata": {},
   "outputs": [],
   "source": [
    "months_of_a_year = [\n",
    "    \"January\",\n",
    "    \"February\",\n",
    "    \"March\",\n",
    "    \"April\",\n",
    "    \"May\",\n",
    "    \"June\",\n",
    "    \"July\",\n",
    "    \"August\",\n",
    "    \"September\",\n",
    "    \"October\",\n",
    "    \"November\",\n",
    "    \"December\"\n",
    "]\n",
    "class DorkarNai(Exception):\n",
    "    pass\n",
    "\n",
    "while True:\n",
    "    try:\n",
    "        date = input(\"Date: \").title().strip()\n",
    "        if '/' in date:\n",
    "            # month - day - year \n",
    "            #8/5/1981\n",
    "            date = date.split('/')\n",
    "            year = int(date[2])\n",
    "            month = int(date[0])\n",
    "            day = int(date[1])\n",
    "            \n",
    "            #print (month)    \n",
    "            \n",
    "            if month > 12 or day > 31:\n",
    "                raise DorkarNai\n",
    "            elif (month <= 9 and day <= 9):\n",
    "                print(f\"{year}-0{month}-0{day}\")\n",
    "            elif (month <=9 or day <=9):\n",
    "                print(f\"{year}-{month}-0{day}\")\n",
    "            elif (month <=9 or day <=9):\n",
    "                print(f\"{year}-0{month}-{day}\")\n",
    "            else:\n",
    "                print(f\"{year}-{month}-{day}\")\n",
    "            break\n",
    "        else:\n",
    "            if ',' not in date:\n",
    "                raise DorkarNai\n",
    "            \n",
    "            # September 8, 1981\n",
    "            date = date.replace(\",\", \"\") \n",
    "            date = date.split()\n",
    "            year = int(date[2])\n",
    "            month = months_of_a_year.index(date[0])+1\n",
    "            day = int(date[1])\n",
    "            \n",
    "            \n",
    "            if month > 12 or day > 31:\n",
    "                raise DorkarNai\n",
    "            elif (month <= 9 and day <= 9):\n",
    "                print(f\"{year}-0{month}-0{day}\")\n",
    "            elif (month <=9 or day <=9):\n",
    "                print(f\"{year}-{month}-0{day}\")\n",
    "            elif (month <=9 or day <=9):\n",
    "                print(f\"{year}-0{month}-{day}\")\n",
    "            else:\n",
    "                print(f\"{year}-{month}-{day}\")\n",
    "            break\n",
    "    except (KeyError, ValueError, DorkarNai):\n",
    "        pass\n",
    "\n",
    "    #September 8, 1636 ->  1636-09-08\n",
    "    #10/9/1701 - > "
   ]
  },
  {
   "cell_type": "markdown",
   "metadata": {},
   "source": [
    "# SUCCESSS !!!!\n",
    "sat with it from 7.30pm now its 12.30am"
   ]
  }
 ],
 "metadata": {
  "kernelspec": {
   "display_name": "Python 3",
   "language": "python",
   "name": "python3"
  },
  "language_info": {
   "codemirror_mode": {
    "name": "ipython",
    "version": 3
   },
   "file_extension": ".py",
   "mimetype": "text/x-python",
   "name": "python",
   "nbconvert_exporter": "python",
   "pygments_lexer": "ipython3",
   "version": "3.12.7"
  }
 },
 "nbformat": 4,
 "nbformat_minor": 2
}
