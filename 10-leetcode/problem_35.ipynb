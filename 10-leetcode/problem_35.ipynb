{
 "cells": [
  {
   "cell_type": "markdown",
   "metadata": {},
   "source": [
    "# 35. Search Insert Position"
   ]
  },
  {
   "cell_type": "code",
   "execution_count": 1,
   "metadata": {},
   "outputs": [
    {
     "name": "stdout",
     "output_type": "stream",
     "text": [
      "2\n"
     ]
    }
   ],
   "source": [
    "# case 1\n",
    "nums = [1,3,5,6]\n",
    "target1 = 5\n",
    "\n",
    "for i in range (len(nums)):\n",
    "    if nums[i] == target1:\n",
    "        print (i)"
   ]
  },
  {
   "cell_type": "code",
   "execution_count": 2,
   "metadata": {},
   "outputs": [
    {
     "name": "stdout",
     "output_type": "stream",
     "text": [
      "1\n",
      "2\n",
      "3\n"
     ]
    }
   ],
   "source": [
    "#case 2\n",
    "nums = [1,3,5,6]\n",
    "target2 = 2\n",
    "for i in range (len(nums)):\n",
    "    if (nums[i] == target2):\n",
    "        print (f\"{target2} is at index: {i}\")\n",
    "    # if not present in nums\n",
    "    #elif inset target2 in nums by order ascending order\n",
    "    elif(nums[i] > target2):\n",
    "        print (i)"
   ]
  },
  {
   "cell_type": "markdown",
   "metadata": {},
   "source": [
    "## lets try with binary sorting"
   ]
  },
  {
   "cell_type": "code",
   "execution_count": 6,
   "metadata": {},
   "outputs": [],
   "source": [
    "nums = [1,3,5,6]\n",
    "target = 7\n",
    "start = 0\n",
    "end = len(nums)\n",
    "mid = 0\n",
    "\n",
    "while (start <= end):\n",
    "    mid = int((start + end)//2)\n",
    "    # print (end)\n",
    "    # print (mid) \n",
    "    if ( nums[mid] == target ): #target -> 2\n",
    "        print (mid)\n",
    "    elif (nums[mid] > target):\n",
    "        end = mid - 1\n",
    "    else:\n",
    "        start = mid + 1\n",
    "    break\n"
   ]
  },
  {
   "cell_type": "markdown",
   "metadata": {},
   "source": [
    "mistake encountered.    nums[7] doesnot exsists"
   ]
  },
  {
   "cell_type": "markdown",
   "metadata": {},
   "source": [
    "improved version"
   ]
  },
  {
   "cell_type": "code",
   "execution_count": 14,
   "metadata": {},
   "outputs": [
    {
     "name": "stdout",
     "output_type": "stream",
     "text": [
      "1\n"
     ]
    }
   ],
   "source": [
    "nums = [1,3,5,6]\n",
    "target = 7\n",
    "start = 0\n",
    "end = len(nums)-1\n",
    "mid = 0\n",
    "\n",
    "while (start <= end):\n",
    "    mid = (start + end)//2\n",
    "    # print (end)\n",
    "    print (mid) \n",
    "    if ( target == nums[mid]  ): #target -> 7\n",
    "        print (mid)\n",
    "    elif (target < nums[mid]):\n",
    "        end = mid - 1\n",
    "    else:\n",
    "        start = mid + 1\n",
    "    break\n"
   ]
  }
 ],
 "metadata": {
  "kernelspec": {
   "display_name": "Python 3",
   "language": "python",
   "name": "python3"
  },
  "language_info": {
   "codemirror_mode": {
    "name": "ipython",
    "version": 3
   },
   "file_extension": ".py",
   "mimetype": "text/x-python",
   "name": "python",
   "nbconvert_exporter": "python",
   "pygments_lexer": "ipython3",
   "version": "3.12.7"
  }
 },
 "nbformat": 4,
 "nbformat_minor": 2
}
