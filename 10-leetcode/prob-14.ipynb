{
 "cells": [
  {
   "cell_type": "code",
   "execution_count": 14,
   "id": "ee62efe3",
   "metadata": {},
   "outputs": [
    {
     "name": "stdout",
     "output_type": "stream",
     "text": [
      "fl\n"
     ]
    }
   ],
   "source": [
    "strs = [\"flower\",\"flow\",\"flight\"]\n",
    "\n",
    "# convert strings to chaecter\n",
    "char_lists = [list(s) for s in strs]\n",
    "l = len(char_lists)\n",
    "i=0\n",
    "s = \"\"\n",
    "while(True):\n",
    "    j = 0\n",
    "    c = char_lists[0][i]\n",
    "    flag = 1\n",
    "\n",
    "    while(j < l):\n",
    "        c2 = char_lists[j][i]\n",
    "        if c != c2:\n",
    "            flag = 0\n",
    "            break\n",
    "        elif i >= len(char_lists[j]):\n",
    "            flag = 0\n",
    "            break\n",
    "        j+=1\n",
    "    \n",
    "    if flag == 0:\n",
    "        break\n",
    "    else:\n",
    "        s += c\n",
    "    i+=1\n",
    "  # [['f', 'l', 'o', 'w', 'e', 'r'], ['f', 'l', 'o', 'w'], ['f', 'l', 'i', 'g', 'h', 't']]\n",
    "print (s)  # ['f', 'l', 'o', 'w', 'e', 'r']\n",
    "\n",
    "# check the first character of every char_lists\n",
    "\n",
    "\n",
    "\n"
   ]
  },
  {
   "cell_type": "code",
   "execution_count": null,
   "id": "451bc6d8",
   "metadata": {},
   "outputs": [],
   "source": [
    "from typing import List\n",
    "class Solution:\n",
    "    def longestCommonPrefix(self, strs: List[str]) -> str:\n",
    "        if not strs:\n",
    "            return \"\"\n",
    "        \n",
    "        # Convert strings to character lists\n",
    "        char_lists = [list(s) for s in strs]\n",
    "        l = len(char_lists)\n",
    "        i = 0\n",
    "        s = \"\"\n",
    "        \n",
    "        while True:\n",
    "            if i >= len(char_lists[0]):  # Check if index exceeds the first string\n",
    "                break\n",
    "            c = char_lists[0][i]\n",
    "\n",
    "            for j in range(l):\n",
    "                if i >= len(char_lists[j]) or char_lists[j][i] != c:\n",
    "                    return s\n",
    "\n",
    "            s += c\n",
    "            i += 1\n",
    "        \n",
    "        return s\n"
   ]
  },
  {
   "cell_type": "code",
   "execution_count": null,
   "id": "ec7e3194",
   "metadata": {},
   "outputs": [],
   "source": []
  }
 ],
 "metadata": {
  "kernelspec": {
   "display_name": "Python 3",
   "language": "python",
   "name": "python3"
  },
  "language_info": {
   "codemirror_mode": {
    "name": "ipython",
    "version": 3
   },
   "file_extension": ".py",
   "mimetype": "text/x-python",
   "name": "python",
   "nbconvert_exporter": "python",
   "pygments_lexer": "ipython3",
   "version": "3.12.1"
  }
 },
 "nbformat": 4,
 "nbformat_minor": 5
}
