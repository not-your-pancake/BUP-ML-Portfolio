{
 "cells": [
  {
   "cell_type": "markdown",
   "id": "29392091",
   "metadata": {},
   "source": [
    "# LIST"
   ]
  },
  {
   "cell_type": "code",
   "execution_count": 16,
   "id": "de91bcd0",
   "metadata": {},
   "outputs": [],
   "source": [
    "hands = [\n",
    "    ['J', 'Q', 'K'],\n",
    "    ['2', '2', '2'],\n",
    "    ['6', 'A', 'K'], # (Comma after the last element is optional)\n",
    "]\n",
    "# (I could also have written this on one line, but it can get hard to read)\n",
    "hands = [['J', 'Q', 'K'], ['2', '2', '2'], ['6', 'A', 'K']]"
   ]
  },
  {
   "cell_type": "code",
   "execution_count": null,
   "id": "f4985c91",
   "metadata": {},
   "outputs": [],
   "source": [
    "# print 'A' from hands\n",
    "print(hands[2][1])"
   ]
  },
  {
   "cell_type": "code",
   "execution_count": null,
   "id": "3378f0c0",
   "metadata": {},
   "outputs": [
    {
     "name": "stdout",
     "output_type": "stream",
     "text": [
      "Mercury\n",
      "Neptune\n",
      "['Mars', 'Jupiter', 'Saturn']\n",
      "['Mercury', 'Venus', 'Earth', 'Mars']\n",
      "['Jupiter', 'Saturn', 'Uranus', 'Neptune']\n",
      "['Venus', 'Earth', 'Mars', 'Jupiter', 'Saturn', 'Uranus']\n"
     ]
    }
   ],
   "source": [
    "planets = ['Mercury', 'Venus', 'Earth', 'Mars', 'Jupiter', 'Saturn', 'Uranus', 'Neptune']\n",
    "\n",
    "print(planets[0]) # Mercury first item\n",
    "print(planets[-1]) # Neptune last item\n",
    "print(planets[3:6]) # Mars, Jupiter, Saturn \n",
    "print(planets[:4])   # Mercury, Venus, Earth, Mars (first four)\n",
    "print(planets[4:])   # Jupiter, Saturn, Uranus, Neptune (last four)\n",
    "print(planets[1:-1])  # Venus, Earth, Mars, Jupiter, Saturn, Uranus (all but first and last)\n",
    "print(planets[-3:])  # Saturn, Uranus, Neptune (last three)\n",
    "print(planets[:-3])  # Mercury, Venus, Earth, Mars, Jupiter (all but last three)\n"
   ]
  },
  {
   "cell_type": "code",
   "execution_count": null,
   "id": "07326ce3",
   "metadata": {},
   "outputs": [
    {
     "name": "stdout",
     "output_type": "stream",
     "text": [
      "['Neptune', 'Uranus', 'Saturn', 'Jupiter', 'Mars', 'Earth', 'Venus', 'Mercury']\n"
     ]
    }
   ],
   "source": [
    "# print the planet in reverse order using for loop\n",
    "for planet in reversed(planets):\n",
    "    print(planet)"
   ]
  },
  {
   "cell_type": "code",
   "execution_count": 21,
   "id": "b3e56b43",
   "metadata": {},
   "outputs": [
    {
     "name": "stdout",
     "output_type": "stream",
     "text": [
      "['Charlie', 'Bob', 'Alice']\n"
     ]
    }
   ],
   "source": [
    "name = ['Alice', 'Bob', 'Charlie']\n",
    "\n",
    "name[0] , name[2] = name[2], name[0]  # swap first two elements\n",
    "\n",
    "print(name)"
   ]
  },
  {
   "cell_type": "markdown",
   "id": "d1851db8",
   "metadata": {},
   "source": [
    "# alphabetical order"
   ]
  },
  {
   "cell_type": "code",
   "execution_count": 7,
   "id": "8b8ca2ab",
   "metadata": {},
   "outputs": [
    {
     "name": "stdout",
     "output_type": "stream",
     "text": [
      "['Earth', 'Jupiter', 'Mars', 'Mercury', 'Neptune', 'Saturn', 'Uranus', 'Venus']\n"
     ]
    }
   ],
   "source": [
    "sorted_planets = sorted(planets)\n",
    "print(sorted_planets)  # alphabetical order"
   ]
  },
  {
   "cell_type": "markdown",
   "id": "e77101aa",
   "metadata": {},
   "source": [
    "# Method"
   ]
  },
  {
   "cell_type": "code",
   "execution_count": 13,
   "id": "d3aa73e5",
   "metadata": {},
   "outputs": [
    {
     "name": "stdout",
     "output_type": "stream",
     "text": [
      "['Mercury', 'Venus', 'Earth', 'Mars', 'Jupiter', 'Saturn', 'Uranus', 'Neptune', 'Pluto']\n"
     ]
    }
   ],
   "source": [
    "# list.append() method adds a single item to the end of an existing list.\n",
    "planets.append('Pluto')\n",
    "print(planets)"
   ]
  },
  {
   "cell_type": "code",
   "execution_count": 14,
   "id": "2be66db3",
   "metadata": {},
   "outputs": [
    {
     "name": "stdout",
     "output_type": "stream",
     "text": [
      "['Mercury', 'Venus', 'Earth', 'Mars', 'Jupiter', 'Saturn', 'Uranus', 'Neptune']\n"
     ]
    }
   ],
   "source": [
    "planets.pop()  # removes and returns the last item in the list\n",
    "print(planets)"
   ]
  },
  {
   "cell_type": "code",
   "execution_count": 15,
   "id": "72fcee47",
   "metadata": {},
   "outputs": [
    {
     "data": {
      "text/plain": [
       "2"
      ]
     },
     "execution_count": 15,
     "metadata": {},
     "output_type": "execute_result"
    }
   ],
   "source": [
    "planets.index('Earth')  # returns the index of the first matching item found in the list"
   ]
  },
  {
   "cell_type": "markdown",
   "id": "c4b60ef2",
   "metadata": {},
   "source": [
    "# Tuples\n",
    "- in ()\n",
    "- cannot be modified "
   ]
  },
  {
   "cell_type": "code",
   "execution_count": 18,
   "id": "73758e79",
   "metadata": {},
   "outputs": [
    {
     "name": "stdout",
     "output_type": "stream",
     "text": [
      "(1, 2, 3)\n",
      "(5, 4, 6)\n"
     ]
    }
   ],
   "source": [
    "t = (1, 2, 3)\n",
    "print(t)\n",
    "\n",
    "y = 5,4,6\n",
    "print(y)"
   ]
  },
  {
   "cell_type": "code",
   "execution_count": 23,
   "id": "24fe54f4",
   "metadata": {},
   "outputs": [
    {
     "data": {
      "text/plain": [
       "3.5"
      ]
     },
     "execution_count": 23,
     "metadata": {},
     "output_type": "execute_result"
    }
   ],
   "source": [
    "7/2"
   ]
  },
  {
   "cell_type": "code",
   "execution_count": null,
   "id": "19d657e3",
   "metadata": {},
   "outputs": [],
   "source": []
  }
 ],
 "metadata": {
  "kernelspec": {
   "display_name": "Python 3",
   "language": "python",
   "name": "python3"
  },
  "language_info": {
   "codemirror_mode": {
    "name": "ipython",
    "version": 3
   },
   "file_extension": ".py",
   "mimetype": "text/x-python",
   "name": "python",
   "nbconvert_exporter": "python",
   "pygments_lexer": "ipython3",
   "version": "3.13.7"
  }
 },
 "nbformat": 4,
 "nbformat_minor": 5
}
